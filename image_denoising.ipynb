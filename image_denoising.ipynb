{
 "cells": [
  {
   "cell_type": "markdown",
   "metadata": {},
   "source": [
    "# Image Denoising as an Example of a Graphical model\n",
    "***\n",
    "This script demonstates the practical use of graphical models by giving an example in the domain of image denoising. This very simple example allows to display the effectivity of graphical models. However, this framework is not restricted to simple tasks as the model complexity can be increased while retraining a clear understanding of the algorithm. \n",
    "\n",
    "## The Graphical Model\n",
    "\n",
    "![Image](notebook_imgs/markov.png)\n",
    "<div style=\"text-align: right\">*Image Source: Pattern Recognition and Machine Learning by Christopher Bishop*</div>\n",
    "\n",
    "The problem is modelled as an undirected graph, also called Markov random field. It contains a grid of unobserved nodes x_i, which are binary random variables describing the value of the unknown noise-free pixel values. In this simple model, they are only connected two the four neighbouring nodes as well as the respective y_i node. The y_i's are the grid of observed pixel values of the noisy image. Our goal is to infer the x_i by observing the y_i.\n",
    "\n",
    "In the following, it is assumed that a pixel value can be 1 (white) or -1 (black).\n",
    "\n",
    "## The Joint Probability Distribution\n",
    "\n",
    "In order to obtain the joint probability distribution in a undirected graphical model, we need to multiply over all maximal cliques: $$p(x, y) = \\frac{1}{Z} \\prod_C \\phi_C(x_C, y_C)$$\n",
    "In this case, we have two types of maximal cliques: \n",
    "1. Each $x_i$ with its corresponding $y_i$\n",
    "2. All combinations of $x_i$ and $x_j$ which are adjacent\n",
    "\n",
    "We choose simple potential functions for these situations:\n",
    "1. $\\phi(x_i, x_j) = \\exp(\\eta \\cdot x_i \\cdot x_j)$. It expresses the fact that similar values of neighbouring pixels are more likely than different ones (for positive $\\eta$)\n",
    "2. $\\phi(x_i, y_i) = \\exp(\\beta \\cdot x_i \\cdot y_i + h \\cdot x_i)$. It expresses the idea that 1.) the noisy pixel is more likely to be right than wrong (for positive $\\beta$) and 2.) white pixels are more likely than black pixels (for positive $h$).\n",
    "\n",
    "This way, we obtain the following formula for the joint distribution: $$p(x, y) = \\frac{1}{Z} \\exp(\\beta\\sum_{i, j}x_i \\cdot x_j + \\eta\\sum_i x_i \\cdot y_i + h\\sum_i x_i)$$\n",
    "The negative of the exponent is often called energy function, so that $$p(x, y) = \\frac{1}{Z} \\exp(-E(x, y)) \\text{ with } E(x, y) = -\\beta\\sum_{i, j}x_i \\cdot x_j -\\eta\\sum_i x_i \\cdot y_i - h\\sum_i x_i$$\n",
    "\n",
    "## Inferring the Noise-free Image\n",
    "\n",
    "We observe the $y_i$ (the pixels of the noisy image) and we wish to recover the pixel values $x_i$ with the highest probability. Thus, we would like to obtain the $x_i$ which maximise p(x|y). In this case, we use a very simple algorithm with the following steps:\n",
    "1. Initialise the $x_i$ with the values of $y_i$\n",
    "2. For each $x_i$, calculate the energy values for $x_i = 1$ and $x_i = -1$, and set it to the value which minimises the energy function. In practice, we only need to calculate the values which are changed by $x_i$, so that this calculation becomes a local one.\n",
    "3. Repeat step 2 until a convergence criteria is achieved\n",
    "\n",
    "If we look at the energy function $E(x, y)$, we can see that for a respective $x_i$, it can be reformulated as $$E(x_i) = -\\beta\\sum_j x_i \\cdot x_j - \\eta \\cdot x_i \\cdot y_i - h \\cdot x_i + const$$ where const represents a term not depending on $x_i$. Thus, we only need to make a few calculations for each $x_i$ and each possible value (-1 or 1). "
   ]
  },
  {
   "cell_type": "code",
   "execution_count": 1,
   "metadata": {},
   "outputs": [],
   "source": [
    "import numpy as np\n",
    "from matplotlib import pyplot as plt\n",
    "import cv2\n",
    "%matplotlib inline"
   ]
  },
  {
   "cell_type": "code",
   "execution_count": 2,
   "metadata": {},
   "outputs": [
    {
     "data": {
      "image/png": "[encoded data removed]",
      "text/plain": [
       "<matplotlib.figure.Figure at 0x7fe28c1a3780>"
      ]
     },
     "metadata": {},
     "output_type": "display_data"
    }
   ],
   "source": [
    "lenna_img = cv2.imread('lenna.png', cv2.IMREAD_GRAYSCALE)\n",
    "lenna_img_bw = np.zeros(lenna_img.shape)\n",
    "lenna_img_bw[lenna_img > 128] = 1\n",
    "plt.imshow(lenna_img_bw)\n",
    "plt.set_cmap('gray')\n",
    "a = plt.axis(\"off\")"
   ]
  },
  {
   "cell_type": "markdown",
   "metadata": {},
   "source": [
    "Make noisy image"
   ]
  },
  {
   "cell_type": "code",
   "execution_count": 3,
   "metadata": {
    "scrolled": true
   },
   "outputs": [
    {
     "data": {
      "image/png": "[encoded data removed]",
      "text/plain": [
       "<matplotlib.figure.Figure at 0x7fe28c0e4f28>"
      ]
     },
     "metadata": {},
     "output_type": "display_data"
    }
   ],
   "source": [
    "p = 0.1\n",
    "lenna_noisy = np.zeros(lenna_img_bw.shape)\n",
    "for i in range(512):\n",
    "    for j in range(512):\n",
    "        if np.random.binomial(1, p): # Flip value\n",
    "            if lenna_img_bw[i, j]:\n",
    "                lenna_noisy[i, j] = 0\n",
    "            else:\n",
    "                lenna_noisy[i, j] = 1\n",
    "        else:\n",
    "            lenna_noisy[i, j] = lenna_img_bw[i, j]\n",
    "\n",
    "plt.imshow(lenna_noisy)\n",
    "plt.set_cmap('gray')\n",
    "a = plt.axis(\"off\")"
   ]
  },
  {
   "cell_type": "markdown",
   "metadata": {},
   "source": [
    "We use iterated conditional modes (ICM)"
   ]
  },
  {
   "cell_type": "code",
   "execution_count": 7,
   "metadata": {},
   "outputs": [],
   "source": [
    "y = lenna_noisy\n",
    "x = y # Initialisation of x\n",
    "\n",
    "x[x==0] = -1\n",
    "y[y==0] = -1\n",
    "\n",
    "# Set parameters\n",
    "h = 0\n",
    "beta = 4.0\n",
    "eta = 0.02\n",
    "\n",
    "def local_energy(i, j, x, y):\n",
    "    energy = h * x[i, j]\n",
    "    s = 0\n",
    "    for k in [(i-1, j), (i+1, j), (i, j-1), (i, j+1)]:\n",
    "        if k[0] >= 0 and k[0] <= 511 and k[1] >= 0 and k[1] <= 511:\n",
    "            s += x[k]\n",
    "    energy -= eta * x[i, j] * s\n",
    "    energy -= beta * x[i, j] * y[i, j]\n",
    "    return energy"
   ]
  },
  {
   "cell_type": "code",
   "execution_count": 8,
   "metadata": {},
   "outputs": [
    {
     "name": "stdout",
     "output_type": "stream",
     "text": [
      "Done with epoch 0\n",
      "Done with epoch 1\n",
      "Done with epoch 2\n",
      "Done with epoch 3\n",
      "Done with epoch 4\n",
      "Done with epoch 5\n",
      "Done with epoch 6\n",
      "Done with epoch 7\n",
      "Done with epoch 8\n",
      "Done with epoch 9\n"
     ]
    }
   ],
   "source": [
    "for k in range(10):\n",
    "    for i in range(512):\n",
    "        for j in range(512):\n",
    "            le1 = local_energy(i, j, x, y)\n",
    "            x[i, j] = -x[i, j]\n",
    "            le2 = local_energy(i, j, x, y)\n",
    "            if le1 < le2:\n",
    "                x[i, j] = -x[i, j]\n",
    "    print('Done with epoch', k)"
   ]
  },
  {
   "cell_type": "code",
   "execution_count": 9,
   "metadata": {},
   "outputs": [
    {
     "data": {
      "image/png": "[encoded data removed]",
      "text/plain": [
       "<matplotlib.figure.Figure at 0x7fe278671b00>"
      ]
     },
     "metadata": {},
     "output_type": "display_data"
    }
   ],
   "source": [
    "x[x==-1] = 0\n",
    "plt.imshow(x)\n",
    "plt.set_cmap('gray')\n",
    "a = plt.axis(\"off\")"
   ]
  },
  {
   "cell_type": "code",
   "execution_count": null,
   "metadata": {},
   "outputs": [],
   "source": []
  }
 ],
 "metadata": {
  "kernelspec": {
   "display_name": "Python 3",
   "language": "python",
   "name": "python3"
  },
  "language_info": {
   "codemirror_mode": {
    "name": "ipython",
    "version": 3
   },
   "file_extension": ".py",
   "mimetype": "text/x-python",
   "name": "python",
   "nbconvert_exporter": "python",
   "pygments_lexer": "ipython3",
   "version": "3.6.4"
  }
 },
 "nbformat": 4,
 "nbformat_minor": 2
}
